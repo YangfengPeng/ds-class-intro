{
 "cells": [
  {
   "cell_type": "code",
   "execution_count": 2,
   "id": "491f7af3",
   "metadata": {},
   "outputs": [],
   "source": [
    "x = list([2,4,6,8])"
   ]
  },
  {
   "cell_type": "code",
   "execution_count": 6,
   "id": "e54b7703",
   "metadata": {},
   "outputs": [
    {
     "name": "stdout",
     "output_type": "stream",
     "text": [
      "[]\n"
     ]
    }
   ],
   "source": [
    "x.clear()\n",
    "print(x)"
   ]
  },
  {
   "cell_type": "code",
   "execution_count": 7,
   "id": "e050f1c1",
   "metadata": {},
   "outputs": [
    {
     "data": {
      "text/plain": [
       "2"
      ]
     },
     "execution_count": 7,
     "metadata": {},
     "output_type": "execute_result"
    }
   ],
   "source": [
    "y = [2,2,5,7,9]\n",
    "y.count(2)"
   ]
  },
  {
   "cell_type": "code",
   "execution_count": 8,
   "id": "c1e5a559",
   "metadata": {},
   "outputs": [],
   "source": [
    "one_dict = {'data':0, 'science':1, 'is':2, 'good':3}"
   ]
  },
  {
   "cell_type": "code",
   "execution_count": 9,
   "id": "9c43d11c",
   "metadata": {},
   "outputs": [
    {
     "data": {
      "text/plain": [
       "True"
      ]
     },
     "execution_count": 9,
     "metadata": {},
     "output_type": "execute_result"
    }
   ],
   "source": [
    "'data' in one_dict.keys()"
   ]
  },
  {
   "cell_type": "code",
   "execution_count": 17,
   "id": "4512f9a8",
   "metadata": {},
   "outputs": [
    {
     "name": "stdout",
     "output_type": "stream",
     "text": [
      "Counter({'good': 3, 'is': 2, 'science': 1, 'data': 0})\n",
      "Counter({'good': 3, 'is': 2, 'science': 1})\n"
     ]
    },
    {
     "data": {
      "text/plain": [
       "[('a', 2), ('c', 2), ('e', 2)]"
      ]
     },
     "execution_count": 17,
     "metadata": {},
     "output_type": "execute_result"
    }
   ],
   "source": [
    "from collections import Counter\n",
    "a = Counter({'data':0, 'science':1, 'is':2, 'good':3})\n",
    "print(a)\n",
    "del a['data']\n",
    "print(a)\n",
    "Counter('data science').most_common(3)"
   ]
  },
  {
   "cell_type": "code",
   "execution_count": 26,
   "id": "6c2c6ba3",
   "metadata": {},
   "outputs": [
    {
     "name": "stdout",
     "output_type": "stream",
     "text": [
      "317811\n",
      "832039\n",
      "[0, 1, 1, 2, 3, 5, 8, 13, 21, 34, 55, 89, 144, 233, 377, 610, 987, 1597, 2584, 4181, 6765, 10946, 17711, 28657, 46368, 75025, 121393, 196418, 317811, 514229]\n",
      "[514229, 317811, 196418, 121393, 75025, 46368, 28657, 17711, 10946, 6765, 4181, 2584, 1597, 987, 610, 377, 233, 144, 89, 55, 34, 21, 13, 8, 5, 3, 2, 1, 1, 0]\n",
      "False\n"
     ]
    }
   ],
   "source": [
    "fibolist=[0, 1, 1, 2, 3, 5, 8, 13, 21, 34, 55, 89, 144, 233, 377, 610, 987, 1597, 2584, 4181, 6765, 10946, 17711, 28657, 46368, 75025, 121393, 196418, 317811]\n",
    "print(fibolist[-1])\n",
    "print(sum(fibolist))\n",
    "fibolist.append(fibolist[-2]+fibolist[-1])\n",
    "print(fibolist)\n",
    "fibolist_reverse = fibolist[::-1]\n",
    "print(fibolist_reverse)\n",
    "fibo_29473 = 29473 in fibolist\n",
    "print(fibo_29473)"
   ]
  },
  {
   "cell_type": "code",
   "execution_count": 29,
   "id": "a6150482",
   "metadata": {},
   "outputs": [
    {
     "name": "stdout",
     "output_type": "stream",
     "text": [
      "{'D', 'S'}\n",
      "{'S', 's', 'e', ' ', 'a', 'd', 'n', 'c', 'D', 't', 'i'}\n",
      "{'c', 'e', ' ', 'a', 'n', 't', 'i'}\n",
      "{'S', 's', 'd', 'D'}\n"
     ]
    }
   ],
   "source": [
    "a = set('Data Science')\n",
    "b = set('data science')\n",
    "print(a - b)                              # letters in a but not in b\n",
    "print(a | b)                              # letters in a or b or both\n",
    "print(a & b)                              # letters in both a and b\n",
    "print(a ^ b)                              # letters in a or b but not both"
   ]
  },
  {
   "cell_type": "code",
   "execution_count": 35,
   "id": "d143d728",
   "metadata": {},
   "outputs": [
    {
     "name": "stdout",
     "output_type": "stream",
     "text": [
      "{'data': 'a', 'science': 1, 'is': 2, 'good': 'b'}\n",
      "{'data': 'a', 'science': 1, 'i': 2, 'good': 'b'}\n"
     ]
    }
   ],
   "source": [
    "one_dict = {'data':'a', 'science':1, 'is':2, 'good':'b'}\n",
    "two_dict = dict(data='a', science=1, i=2, good='b')\n",
    "print(one_dict)\n",
    "print(two_dict)"
   ]
  },
  {
   "cell_type": "code",
   "execution_count": 39,
   "id": "799a7462",
   "metadata": {},
   "outputs": [
    {
     "name": "stdout",
     "output_type": "stream",
     "text": [
      "{2: True, 9999: False}\n"
     ]
    }
   ],
   "source": [
    "fibo_dict = {}\n",
    "fibo_dict[2] = 2 in fibolist\n",
    "fibo_dict[9999] = 9999 in fibolist\n",
    "print(fibo_dict)"
   ]
  }
 ],
 "metadata": {
  "kernelspec": {
   "display_name": "Python 3 (ipykernel)",
   "language": "python",
   "name": "python3"
  },
  "language_info": {
   "codemirror_mode": {
    "name": "ipython",
    "version": 3
   },
   "file_extension": ".py",
   "mimetype": "text/x-python",
   "name": "python",
   "nbconvert_exporter": "python",
   "pygments_lexer": "ipython3",
   "version": "3.8.11"
  }
 },
 "nbformat": 4,
 "nbformat_minor": 5
}
